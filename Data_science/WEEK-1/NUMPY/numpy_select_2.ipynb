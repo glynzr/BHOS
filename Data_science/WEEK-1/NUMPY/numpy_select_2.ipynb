{
 "cells": [
  {
   "cell_type": "markdown",
   "metadata": {},
   "source": [
    "# Numpy Select"
   ]
  },
  {
   "cell_type": "markdown",
   "metadata": {},
   "source": [
    "## numpy.select(condlist, choicelist, default=0)"
   ]
  },
  {
   "cell_type": "markdown",
   "metadata": {},
   "source": [
    "## Return an array drawn from elements in choicelist, depending on conditions.\n",
    "\n"
   ]
  },
  {
   "cell_type": "markdown",
   "metadata": {},
   "source": [
    "## Parameters\n",
    "###     condlist: list of bool ndarrays\n",
    "###     The list of conditions which determine from which array in choicelist the output elements are taken. When multiple conditions are satisfied, the first one encountered in condlist is used.\n",
    "\n",
    "###     choicelist: list of ndarrays\n",
    "###     The list of arrays from which the output elements are taken. It has to be of the same length as condlist.\n",
    "\n",
    "###      default: scalar, optional\n",
    "###      The element inserted in output when all conditions evaluate to False.\n",
    "## Returns\n",
    "### outputndarray\n",
    "### The output at position m is the m-th element of the array in choicelist where the m-th element of the corresponding array in condlist is True."
   ]
  },
  {
   "cell_type": "markdown",
   "metadata": {},
   "source": [
    "## Now, Lets see it in an example:"
   ]
  },
  {
   "cell_type": "code",
   "execution_count": 6,
   "metadata": {},
   "outputs": [
    {
     "data": {
      "text/plain": [
       "array([  0,   1,   2,   3,   4,   0,   0,   0,   0, 729])"
      ]
     },
     "execution_count": 6,
     "metadata": {},
     "output_type": "execute_result"
    }
   ],
   "source": [
    "import numpy\n",
    "\n",
    "x = numpy.arange(10)\n",
    "\n",
    "condlist = [x<5,x>8]\n",
    "\n",
    "choicelist = [x, x**3]\n",
    "\n",
    "numpy.select(condlist,choicelist)"
   ]
  },
  {
   "cell_type": "markdown",
   "metadata": {},
   "source": [
    "# x here is an array from 0 to 9 (we get this array via numpy.arrange(10)).So, basically the output gives us an array. As you can see, we have 0,1,2,3,4 and after that comes zeros and 729 at the end. The reason is that in our condition we say that when x is less than 5 then it should be in a form of x and if x>8 then it should be shown as x**3 (calculate 9**3 and you will get 729). "
   ]
  },
  {
   "cell_type": "markdown",
   "metadata": {},
   "source": [
    "# Now lets set default as 100 and see what will happen."
   ]
  },
  {
   "cell_type": "code",
   "execution_count": 8,
   "metadata": {},
   "outputs": [
    {
     "data": {
      "text/plain": [
       "array([  0,   1,   2,   3,   4, 100, 100, 100, 100, 729])"
      ]
     },
     "execution_count": 8,
     "metadata": {},
     "output_type": "execute_result"
    }
   ],
   "source": [
    "import numpy\n",
    "\n",
    "x = numpy.arange(10)\n",
    "\n",
    "condlist = [x<5,x>8]\n",
    "\n",
    "choicelist = [x, x**3]\n",
    "\n",
    "numpy.select(condlist,choicelist,100)"
   ]
  },
  {
   "cell_type": "markdown",
   "metadata": {},
   "source": [
    "# As you can see, all zeros after 4 changed to 100. The reason is that we set number to 100 whenever the condition is not satisfied (in our case numbers between 4 and 8 are those numbers). In an example before it was zeros as we didnt set the default."
   ]
  },
  {
   "cell_type": "code",
   "execution_count": null,
   "metadata": {},
   "outputs": [],
   "source": []
  }
 ],
 "metadata": {
  "kernelspec": {
   "display_name": "Python 3",
   "language": "python",
   "name": "python3"
  },
  "language_info": {
   "codemirror_mode": {
    "name": "ipython",
    "version": 3
   },
   "file_extension": ".py",
   "mimetype": "text/x-python",
   "name": "python",
   "nbconvert_exporter": "python",
   "pygments_lexer": "ipython3",
   "version": "3.8.5"
  }
 },
 "nbformat": 4,
 "nbformat_minor": 4
}
