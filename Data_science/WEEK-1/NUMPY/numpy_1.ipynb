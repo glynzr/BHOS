{
 "cells": [
  {
   "cell_type": "markdown",
   "id": "f931c95b",
   "metadata": {},
   "source": [
    "# NumPy Arrays"
   ]
  },
  {
   "cell_type": "markdown",
   "id": "edbd793d",
   "metadata": {},
   "source": [
    "## NumPy is a Python library used for working with arrays. \n",
    "## NumPy stands for `Numerical Python.`"
   ]
  },
  {
   "cell_type": "markdown",
   "id": "5ea3ee2b",
   "metadata": {},
   "source": [
    "## <blockquote>Why use NumPy?</blockquote>\n",
    "#### NumPy aims to provide an array object that is up to 50x faster than traditional Python lists.\n",
    "\n",
    "#### The array object in NumPy is called `ndarray`, it provides a lot of supporting functions that make working with `ndarray` very easy."
   ]
  },
  {
   "cell_type": "code",
   "execution_count": 2,
   "id": "e130053b",
   "metadata": {},
   "outputs": [
    {
     "name": "stdout",
     "output_type": "stream",
     "text": [
      "[1, 2, 3, 4, 5] [1 2 3 4 5]\n",
      "Normal list type: <class 'list'>\n",
      "Numpy array type: <class 'numpy.ndarray'>\n"
     ]
    }
   ],
   "source": [
    "import numpy as np\n",
    "\n",
    "# a normal list\n",
    "mylist = [1, 2, 3, 4, 5]\n",
    "\n",
    "# a list with numpy\n",
    "arr = np.array([1, 2, 3, 4, 5])\n",
    "\n",
    "print(mylist, arr)\n",
    "print(f'Normal list type: {type(mylist)}\\nNumpy array type: {type(arr)}')"
   ]
  },
  {
   "cell_type": "markdown",
   "id": "f66b5482",
   "metadata": {},
   "source": [
    "## <blockquote>Transforming normal lists into NumPy Arrays</blockquote>"
   ]
  },
  {
   "cell_type": "code",
   "execution_count": 4,
   "id": "ef86e6f4",
   "metadata": {},
   "outputs": [
    {
     "name": "stdout",
     "output_type": "stream",
     "text": [
      "[1, 2, 3, 4, 5]\n",
      "[1 2 3 4 5]\n"
     ]
    }
   ],
   "source": [
    "mylist = [1, 2, 3, 4, 5]\n",
    "print(mylist)\n",
    "myarr = np.array(mylist)\n",
    "print(myarr)"
   ]
  },
  {
   "cell_type": "markdown",
   "id": "c52f653d",
   "metadata": {},
   "source": [
    "## <blockquote>Dimensions in Arrays</blockquote>\n",
    "## `0-D Arrays`"
   ]
  },
  {
   "cell_type": "code",
   "execution_count": 5,
   "id": "1eba34fe",
   "metadata": {},
   "outputs": [
    {
     "name": "stdout",
     "output_type": "stream",
     "text": [
      "61\n"
     ]
    },
    {
     "data": {
      "text/plain": [
       "numpy.ndarray"
      ]
     },
     "execution_count": 5,
     "metadata": {},
     "output_type": "execute_result"
    }
   ],
   "source": [
    "arr = np.array(61)\n",
    "print(arr)                              # 61 here is a zero-dimensional array"
   ]
  },
  {
   "cell_type": "markdown",
   "id": "2a972ff1",
   "metadata": {},
   "source": [
    "## `1-D Arrays`"
   ]
  },
  {
   "cell_type": "code",
   "execution_count": 6,
   "id": "9e16bb10",
   "metadata": {},
   "outputs": [
    {
     "name": "stdout",
     "output_type": "stream",
     "text": [
      "[ 5 10 15 20]\n"
     ]
    }
   ],
   "source": [
    "arr = np.array([5, 10, 15, 20])\n",
    "print(arr)                             # a uni-dimensional array consisting of 0-D arrays"
   ]
  },
  {
   "cell_type": "markdown",
   "id": "d7280520",
   "metadata": {},
   "source": [
    "## `2-D Arrays`"
   ]
  },
  {
   "cell_type": "code",
   "execution_count": 7,
   "id": "68f36600",
   "metadata": {},
   "outputs": [
    {
     "name": "stdout",
     "output_type": "stream",
     "text": [
      "[[1 3 5]\n",
      " [2 4 6]]\n"
     ]
    }
   ],
   "source": [
    "matrix = np.array([[1, 3, 5], [2, 4, 6]])\n",
    "print(matrix)                          # a 2-D array containing two 1-D arrays"
   ]
  },
  {
   "cell_type": "markdown",
   "id": "d80b497c",
   "metadata": {},
   "source": [
    "## `3-D Arrays`"
   ]
  },
  {
   "cell_type": "code",
   "execution_count": 8,
   "id": "7d02e122",
   "metadata": {},
   "outputs": [
    {
     "name": "stdout",
     "output_type": "stream",
     "text": [
      "[[[ 1  2  3]\n",
      "  [ 4  5  6]]\n",
      "\n",
      " [[ 7  8  9]\n",
      "  [10 11 12]]]\n"
     ]
    }
   ],
   "source": [
    "matrix = np.array([[[1, 2, 3], [4, 5, 6]], [[7, 8, 9], [10, 11, 12]]])\n",
    "print(matrix)                          # a 3-D array containing two 2-D arrays"
   ]
  },
  {
   "cell_type": "markdown",
   "id": "5e58e35f",
   "metadata": {},
   "source": [
    "## `Higher Dimensional Arrays`\n",
    "### When an array is created, you can define the number of dimensions by using the `ndmin` argument."
   ]
  },
  {
   "cell_type": "code",
   "execution_count": 7,
   "id": "acd04200",
   "metadata": {},
   "outputs": [
    {
     "name": "stdout",
     "output_type": "stream",
     "text": [
      "[[[[[1 2 3 4]]]]]\n",
      "Number of dimensions : 5\n"
     ]
    }
   ],
   "source": [
    "arr = np.array([1, 2, 3, 4], ndmin=5)\n",
    "\n",
    "print(arr)\n",
    "print('Number of dimensions :', arr.ndim)"
   ]
  },
  {
   "cell_type": "markdown",
   "id": "69a9fc93",
   "metadata": {},
   "source": [
    "## <blockquote>Checking the number of Dimensions</blockquote>"
   ]
  },
  {
   "cell_type": "markdown",
   "id": "b9926239",
   "metadata": {},
   "source": [
    "### NumPy Arrays provides the `ndim` attribute that returns an integer that tells us how many dimensions the array have."
   ]
  },
  {
   "cell_type": "code",
   "execution_count": 10,
   "id": "806b1137",
   "metadata": {},
   "outputs": [
    {
     "name": "stdout",
     "output_type": "stream",
     "text": [
      "1\n",
      "3\n"
     ]
    }
   ],
   "source": [
    "# array.ndim\n",
    "\n",
    "zero = np.array(61)\n",
    "one = np.array([5, 10, 15, 20])\n",
    "two = np.array([[1, 3, 5], [2, 4, 6]])\n",
    "three = np.array([[[1, 2, 3], [4, 5, 6]], [[7, 8, 9], [10, 11, 12]]])\n",
    "\n",
    "# using ndim to find out dimensions\n",
    "print(one.ndim)\n",
    "print(three.ndim)"
   ]
  },
  {
   "cell_type": "markdown",
   "id": "e65c00f4",
   "metadata": {},
   "source": [
    "## <blockquote>Built-in Functions</blockquote>"
   ]
  },
  {
   "cell_type": "markdown",
   "id": "46227404",
   "metadata": {},
   "source": [
    "## `arange`\n",
    "### Returns evenly spaced values within a given interval."
   ]
  },
  {
   "cell_type": "code",
   "execution_count": 12,
   "id": "81042fed",
   "metadata": {},
   "outputs": [
    {
     "name": "stdout",
     "output_type": "stream",
     "text": [
      "[  0  10  20  30  40  50  60  70  80  90 100]\n"
     ]
    }
   ],
   "source": [
    "# np.arange(start, stop, stepsize) \n",
    "\n",
    "arr = np.arange(0, 101, 10)   # stopping point not included\n",
    "print(arr)"
   ]
  },
  {
   "cell_type": "markdown",
   "id": "6e77858c",
   "metadata": {},
   "source": [
    "## `linspace`\n",
    "### Returns evenly spaced numbers over a specified interval."
   ]
  },
  {
   "cell_type": "code",
   "execution_count": 18,
   "id": "6baf7531",
   "metadata": {},
   "outputs": [
    {
     "name": "stdout",
     "output_type": "stream",
     "text": [
      "[ 0.          0.52631579  1.05263158  1.57894737  2.10526316  2.63157895\n",
      "  3.15789474  3.68421053  4.21052632  4.73684211  5.26315789  5.78947368\n",
      "  6.31578947  6.84210526  7.36842105  7.89473684  8.42105263  8.94736842\n",
      "  9.47368421 10.        ]\n"
     ]
    }
   ],
   "source": [
    "# np.linspace(start, stop, num)\n",
    "\n",
    "arr = np.linspace(0, 10, 20)  # stopping point included\n",
    "print(arr)"
   ]
  },
  {
   "cell_type": "markdown",
   "id": "7586ff99",
   "metadata": {},
   "source": [
    "## `zeros`\n",
    "### Returns a new array of given shape and type, filled with zeros."
   ]
  },
  {
   "cell_type": "code",
   "execution_count": 13,
   "id": "2613f0b2",
   "metadata": {},
   "outputs": [
    {
     "name": "stdout",
     "output_type": "stream",
     "text": [
      "1-D Array: [0. 0. 0. 0. 0.]\n",
      "\n",
      "Matrix with floating point numbers:\n",
      " [[0. 0. 0. 0. 0. 0.]\n",
      " [0. 0. 0. 0. 0. 0.]\n",
      " [0. 0. 0. 0. 0. 0.]\n",
      " [0. 0. 0. 0. 0. 0.]]\n",
      "\n",
      "Matrix with integers:\n",
      " [[0 0 0 0 0 0]\n",
      " [0 0 0 0 0 0]\n",
      " [0 0 0 0 0 0]\n",
      " [0 0 0 0 0 0]]\n",
      "\n",
      " 3-D Array:\n",
      " [[[0. 0. 0. 0. 0. 0. 0.]\n",
      "  [0. 0. 0. 0. 0. 0. 0.]\n",
      "  [0. 0. 0. 0. 0. 0. 0.]]\n",
      "\n",
      " [[0. 0. 0. 0. 0. 0. 0.]\n",
      "  [0. 0. 0. 0. 0. 0. 0.]\n",
      "  [0. 0. 0. 0. 0. 0. 0.]]\n",
      "\n",
      " [[0. 0. 0. 0. 0. 0. 0.]\n",
      "  [0. 0. 0. 0. 0. 0. 0.]\n",
      "  [0. 0. 0. 0. 0. 0. 0.]]\n",
      "\n",
      " [[0. 0. 0. 0. 0. 0. 0.]\n",
      "  [0. 0. 0. 0. 0. 0. 0.]\n",
      "  [0. 0. 0. 0. 0. 0. 0.]]]\n"
     ]
    }
   ],
   "source": [
    "# np.zeros(shape)\n",
    "\n",
    "# one dimensional\n",
    "arr = np.zeros(5)\n",
    "print(f'1-D Array: {arr}')\n",
    "\n",
    "# 2-D array\n",
    "arr = np.zeros((4, 6))\n",
    "print(f'\\nMatrix with floating point numbers:\\n {arr}')\n",
    "\n",
    "# with int\n",
    "arr = np.zeros((4, 6), dtype=int)\n",
    "print(f'\\nMatrix with integers:\\n {arr}')\n",
    "\n",
    "# 3-D Array\n",
    "arr = np.zeros((4, 3, 7))\n",
    "print(f'\\n 3-D Array:\\n {arr}')"
   ]
  },
  {
   "cell_type": "markdown",
   "id": "41c41c06",
   "metadata": {},
   "source": [
    "## `ones`\n",
    "### Returns a new array of given shape and type, filled with ones."
   ]
  },
  {
   "cell_type": "code",
   "execution_count": 14,
   "id": "814745eb",
   "metadata": {},
   "outputs": [
    {
     "name": "stdout",
     "output_type": "stream",
     "text": [
      "[[1 1 1 1 1]\n",
      " [1 1 1 1 1]]\n"
     ]
    }
   ],
   "source": [
    "# np.ones(shape)\n",
    "\n",
    "arr = np.ones((2, 5), dtype=int)\n",
    "print(arr)"
   ]
  },
  {
   "cell_type": "markdown",
   "id": "2cba4253",
   "metadata": {},
   "source": [
    "## `eye`\n",
    "### Creates an identity matrix, ones on the diagonal and zeros elsewhere."
   ]
  },
  {
   "cell_type": "code",
   "execution_count": 22,
   "id": "db84cf3a",
   "metadata": {},
   "outputs": [
    {
     "name": "stdout",
     "output_type": "stream",
     "text": [
      "[[1 0 0 0]\n",
      " [0 1 0 0]\n",
      " [0 0 1 0]\n",
      " [0 0 0 1]]\n"
     ]
    }
   ],
   "source": [
    "# np.eye(number)\n",
    "\n",
    "arr = np.eye(4, dtype=int)\n",
    "print(arr)"
   ]
  },
  {
   "cell_type": "markdown",
   "id": "e6b822e3",
   "metadata": {},
   "source": [
    "## `dtype`\n",
    "### Returns the data type of the array."
   ]
  },
  {
   "cell_type": "code",
   "execution_count": 34,
   "id": "2849d72d",
   "metadata": {},
   "outputs": [
    {
     "name": "stdout",
     "output_type": "stream",
     "text": [
      "First array data type: int32\n",
      "Second array data type: float64\n",
      "Third array data type: <U6\n"
     ]
    }
   ],
   "source": [
    "# arr.dtype\n",
    "\n",
    "arr1 = np.array([[1, 3, 5], [2, 4, 6]])\n",
    "arr2 = np.array([[[1, 2, 3.5], [4, 5.2, 6]]])\n",
    "arr3 = np.array(['apple', 'banana', 'cake'])       # 6 in U6 shows the length of the longest string in array\n",
    "\n",
    "print(f'First array data type: {arr1.dtype}')\n",
    "print(f'Second array data type: {arr2.dtype}')\n",
    "print(f'Third array data type: {arr3.dtype}')"
   ]
  },
  {
   "cell_type": "markdown",
   "id": "b8399aec",
   "metadata": {},
   "source": [
    "## `astype`\n",
    "### Copies the array and converts it into a specified type."
   ]
  },
  {
   "cell_type": "code",
   "execution_count": 42,
   "id": "fb3d0c0e",
   "metadata": {},
   "outputs": [
    {
     "name": "stdout",
     "output_type": "stream",
     "text": [
      "Given array: [10.5 20.1 30.4 40.6 50.3]\n",
      "Integer array: [10 20 30 40 50]\n"
     ]
    }
   ],
   "source": [
    "# arr.astype(dtype)\n",
    "\n",
    "arr = np.array([10.5, 20.1, 30.4, 40.6, 50.3])\n",
    "print(f'Given array: {arr}')\n",
    "\n",
    "int_arr = arr.astype('int32')\n",
    "print(f'Integer array: {int_arr}')"
   ]
  },
  {
   "cell_type": "markdown",
   "id": "8e58705d",
   "metadata": {},
   "source": [
    "## <blockquote>Generating random data</blockquote>"
   ]
  },
  {
   "cell_type": "markdown",
   "id": "18bd7ace",
   "metadata": {},
   "source": [
    "## `rand`\n",
    "### Returns an array of a given shape consisting of floats between 0 and 1."
   ]
  },
  {
   "cell_type": "code",
   "execution_count": 16,
   "id": "84a90b8d",
   "metadata": {},
   "outputs": [
    {
     "name": "stdout",
     "output_type": "stream",
     "text": [
      "1-D random Array: [0.9979028  0.4522831  0.27189378]\n",
      "\n",
      "3-D random Array:\n",
      " [[[0.96418501 0.17443003 0.69752974 0.04145537]\n",
      "  [0.96419444 0.33343172 0.8627363  0.03330403]\n",
      "  [0.72996931 0.22868009 0.03980126 0.88395047]]\n",
      "\n",
      " [[0.47955247 0.32305718 0.84576313 0.79450248]\n",
      "  [0.36925791 0.95313148 0.92943191 0.1546979 ]\n",
      "  [0.11994141 0.58985785 0.02168362 0.18362571]]]\n"
     ]
    }
   ],
   "source": [
    "# np.random.rand(d0, d1, ... dn)\n",
    "\n",
    "arr = np.random.rand(3)\n",
    "print(f'1-D random Array: {arr}\\n')\n",
    "\n",
    "arr = np.random.rand(2, 3, 4)\n",
    "print(f'3-D random Array:\\n {arr}')"
   ]
  },
  {
   "cell_type": "markdown",
   "id": "35262aa4",
   "metadata": {},
   "source": [
    "## `randn`\n",
    "### Returns a sample (or samples) from the “standard normal” distribution."
   ]
  },
  {
   "cell_type": "code",
   "execution_count": 17,
   "id": "aee1e08f",
   "metadata": {},
   "outputs": [
    {
     "name": "stdout",
     "output_type": "stream",
     "text": [
      "[[ 1.21597972 -0.06408164  0.25463151]\n",
      " [-2.01996944 -0.4163979  -0.24152076]]\n"
     ]
    }
   ],
   "source": [
    "# np.random.randn(d0, d1, ... dn)\n",
    "\n",
    "arr = np.random.randn(2, 3)\n",
    "print(arr)"
   ]
  },
  {
   "cell_type": "markdown",
   "id": "f6b610e9",
   "metadata": {},
   "source": [
    "## `randint`\n",
    "### Return random integers from *low* (inclusive) to *high* (exclusive)."
   ]
  },
  {
   "cell_type": "code",
   "execution_count": 18,
   "id": "ec91bff6",
   "metadata": {},
   "outputs": [
    {
     "name": "stdout",
     "output_type": "stream",
     "text": [
      "Four random integers between 1 and 15:\n",
      "[ 6  9  7 11]\n",
      "\n",
      "2-D array containing integers between 1 and 15:\n",
      "[[ 8 11 13 10]\n",
      " [ 2 11  4  1]]\n"
     ]
    }
   ],
   "source": [
    "# np.random.randint(low, high, num/shape)\n",
    "\n",
    "arr = np.random.randint(1, 15, 4)\n",
    "print(f'Four random integers between 1 and 15:\\n{arr}')\n",
    "\n",
    "matrix = np.random.randint(1, 15, (2, 4))\n",
    "print(f'\\n2-D array containing integers between 1 and 15:\\n{matrix}')"
   ]
  },
  {
   "cell_type": "markdown",
   "id": "58f92542",
   "metadata": {},
   "source": [
    "## `seed`\n",
    "### NumPy allows you to set an arbitrary seed number to get a particular set of random numbers."
   ]
  },
  {
   "cell_type": "code",
   "execution_count": 85,
   "id": "31c28376",
   "metadata": {},
   "outputs": [
    {
     "name": "stdout",
     "output_type": "stream",
     "text": [
      "[0.37454012 0.95071431 0.73199394 0.59865848]\n"
     ]
    }
   ],
   "source": [
    "# np.random.seed(num)\n",
    "\n",
    "np.random.seed(42)\n",
    "arr = np.random.rand(4)\n",
    "print(arr)                                  # like a sequence"
   ]
  },
  {
   "cell_type": "markdown",
   "id": "2a31dcfc",
   "metadata": {},
   "source": [
    "## <blockquote>Shaping / Reshaping</blockquote>"
   ]
  },
  {
   "cell_type": "markdown",
   "id": "a8562056",
   "metadata": {},
   "source": [
    "## `shape`\n",
    "### Returns the number of elements in each dimension (referred as the \"shape\" of array)"
   ]
  },
  {
   "cell_type": "code",
   "execution_count": 29,
   "id": "f296dccf",
   "metadata": {},
   "outputs": [
    {
     "name": "stdout",
     "output_type": "stream",
     "text": [
      "Shape of the first array: (5,)\n",
      "Shape of the second array: (2, 3)\n",
      "Shape of the third array: (2, 2, 3)\n"
     ]
    }
   ],
   "source": [
    "# get the shape of an array\n",
    "# array.shape\n",
    "\n",
    "arr1 = np.array([1, 2, 3, 4, 5])\n",
    "arr2 = np.array([[1, 2, 3], [4, 5, 6]])\n",
    "arr3 = np.array([[[1, 2, 3], [4, 5, 6]], [[7, 8, 9], [10, 11, 12]]])\n",
    "\n",
    "print(f'Shape of the first array: {arr1.shape}')\n",
    "print(f'Shape of the second array: {arr2.shape}')\n",
    "print(f'Shape of the third array: {arr3.shape}')"
   ]
  },
  {
   "cell_type": "markdown",
   "id": "bf50a477",
   "metadata": {},
   "source": [
    "## `reshape`\n",
    "### Changes the shape of array without altering the data"
   ]
  },
  {
   "cell_type": "markdown",
   "id": "f758668f",
   "metadata": {},
   "source": [
    "## `1D-2D Reshaping`"
   ]
  },
  {
   "cell_type": "code",
   "execution_count": 46,
   "id": "d2c29b6b",
   "metadata": {},
   "outputs": [
    {
     "data": {
      "text/plain": [
       "array([[ 1,  3,  5],\n",
       "       [ 7,  9, 11]])"
      ]
     },
     "execution_count": 46,
     "metadata": {},
     "output_type": "execute_result"
    }
   ],
   "source": [
    "# change the shape of an array\n",
    "# numpy.reshape(array, shape)\n",
    "\n",
    "arr = np.array([1, 3, 5, 7, 9, 11])\n",
    "\n",
    "np.reshape(arr, (2, 3))"
   ]
  },
  {
   "cell_type": "markdown",
   "id": "c20030b0",
   "metadata": {},
   "source": [
    "## `1D-3D Reshaping`"
   ]
  },
  {
   "cell_type": "code",
   "execution_count": 47,
   "id": "f12dc3a9",
   "metadata": {},
   "outputs": [
    {
     "data": {
      "text/plain": [
       "array([[[ 2,  4],\n",
       "        [ 6,  8],\n",
       "        [10, 12]],\n",
       "\n",
       "       [[14, 16],\n",
       "        [18, 20],\n",
       "        [22, 24]]])"
      ]
     },
     "execution_count": 47,
     "metadata": {},
     "output_type": "execute_result"
    }
   ],
   "source": [
    "arr = np.array([2, 4, 6, 8, 10, 12, 14, 16, 18, 20, 22, 24])\n",
    "\n",
    "np.reshape(arr, (2, 3, 2))"
   ]
  },
  {
   "cell_type": "markdown",
   "id": "5ea6a8fc",
   "metadata": {},
   "source": [
    "## It is not possible to reshape into any shape:"
   ]
  },
  {
   "cell_type": "code",
   "execution_count": 48,
   "id": "67da897c",
   "metadata": {},
   "outputs": [],
   "source": [
    "arr = np.array([1, 2, 3, 4, 5, 6, 7, 8])\n",
    "\n",
    "# np.reshape(arr, (2, 5)) # it will give an error "
   ]
  },
  {
   "cell_type": "markdown",
   "id": "4f90c75e",
   "metadata": {},
   "source": [
    "## `max`\n",
    "### Returns the maximum value in an array"
   ]
  },
  {
   "cell_type": "code",
   "execution_count": 49,
   "id": "3a8e4d80",
   "metadata": {},
   "outputs": [
    {
     "data": {
      "text/plain": [
       "93"
      ]
     },
     "execution_count": 49,
     "metadata": {},
     "output_type": "execute_result"
    }
   ],
   "source": [
    "# get the maximum value in array\n",
    "# array.max()\n",
    "\n",
    "arr = np.array([32, 78, 39, 78, 93, 1, 2])\n",
    "\n",
    "arr.max()"
   ]
  },
  {
   "cell_type": "markdown",
   "id": "37c64bef",
   "metadata": {},
   "source": [
    "## `min`\n",
    "### Returns the minimum value in an array"
   ]
  },
  {
   "cell_type": "code",
   "execution_count": 50,
   "id": "299b10b0",
   "metadata": {},
   "outputs": [
    {
     "data": {
      "text/plain": [
       "-3"
      ]
     },
     "execution_count": 50,
     "metadata": {},
     "output_type": "execute_result"
    }
   ],
   "source": [
    "# get the minimum value in array\n",
    "# array.min()\n",
    "\n",
    "arr = np.array([23, 71, 389, 389, -3, 1, 2])\n",
    "\n",
    "arr.min()"
   ]
  },
  {
   "cell_type": "markdown",
   "id": "55d4cee1",
   "metadata": {},
   "source": [
    "## `argmax`\n",
    "### Returns the index of the maximum value in an array"
   ]
  },
  {
   "cell_type": "code",
   "execution_count": 51,
   "id": "29b185ad",
   "metadata": {},
   "outputs": [
    {
     "data": {
      "text/plain": [
       "4"
      ]
     },
     "execution_count": 51,
     "metadata": {},
     "output_type": "execute_result"
    }
   ],
   "source": [
    "# get the index of the maximum value in array\n",
    "# array.argmax()\n",
    "\n",
    "arr = np.array([32, 78, 39, 77, 93, 1, 2])\n",
    "\n",
    "arr.argmax()"
   ]
  },
  {
   "cell_type": "markdown",
   "id": "3f881a43",
   "metadata": {},
   "source": [
    "## `argmin`\n",
    "### Returns the index of the minimum value in an array"
   ]
  },
  {
   "cell_type": "code",
   "execution_count": 52,
   "id": "ba3e7d97",
   "metadata": {},
   "outputs": [
    {
     "data": {
      "text/plain": [
       "4"
      ]
     },
     "execution_count": 52,
     "metadata": {},
     "output_type": "execute_result"
    }
   ],
   "source": [
    "# get the index of the  minimum value in array\n",
    "# array.argmin()\n",
    "\n",
    "arr = np.array([23, 71, 389, 389, -3, 1, 2])\n",
    "\n",
    "arr.argmin()"
   ]
  },
  {
   "cell_type": "markdown",
   "id": "c412d3aa",
   "metadata": {},
   "source": [
    "## <blockquote> Exercises </blockquote> "
   ]
  },
  {
   "cell_type": "markdown",
   "id": "8e3e6000",
   "metadata": {},
   "source": [
    "### `Exercise 1:` Output a 5-by-5 array of random integers between 0 (inclusive) and 10 (exclusive)."
   ]
  },
  {
   "cell_type": "code",
   "execution_count": 67,
   "id": "ef3b3fb0",
   "metadata": {},
   "outputs": [],
   "source": [
    "# Solution Here"
   ]
  },
  {
   "cell_type": "markdown",
   "id": "c4864fce",
   "metadata": {},
   "source": [
    "### `Exercise 2:` Convert the 1-D array into a 3-D array."
   ]
  },
  {
   "cell_type": "code",
   "execution_count": 66,
   "id": "8a538e68",
   "metadata": {},
   "outputs": [],
   "source": [
    "arr = np.linspace(1, 27, 27, dtype=int)\n",
    "\n",
    "# Solution Here"
   ]
  },
  {
   "cell_type": "markdown",
   "id": "1bea720e",
   "metadata": {},
   "source": [
    "### `Exercise 3:` Create different shapes of the same sequence of  integers using random library."
   ]
  },
  {
   "cell_type": "code",
   "execution_count": 95,
   "id": "9076083f",
   "metadata": {},
   "outputs": [],
   "source": [
    "# Solution Here"
   ]
  }
 ],
 "metadata": {
  "kernelspec": {
   "display_name": "Python 3 (ipykernel)",
   "language": "python",
   "name": "python3"
  },
  "language_info": {
   "codemirror_mode": {
    "name": "ipython",
    "version": 3
   },
   "file_extension": ".py",
   "mimetype": "text/x-python",
   "name": "python",
   "nbconvert_exporter": "python",
   "pygments_lexer": "ipython3",
   "version": "3.9.7"
  }
 },
 "nbformat": 4,
 "nbformat_minor": 5
}
