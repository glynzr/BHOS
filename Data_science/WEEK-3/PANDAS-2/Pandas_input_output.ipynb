{
 "cells": [
  {
   "cell_type": "markdown",
   "id": "a2f94c9a",
   "metadata": {},
   "source": [
    "# Inputs and Outputs"
   ]
  },
  {
   "cell_type": "markdown",
   "id": "d38ae0b8",
   "metadata": {},
   "source": [
    "Pandas can read variety of file types using its pd.read_ methods. To write to different file types, Pandas use output methods called directly off the dataframe with df.to_."
   ]
  },
  {
   "cell_type": "code",
   "execution_count": 4,
   "id": "59477937",
   "metadata": {},
   "outputs": [],
   "source": [
    "import numpy as np\n",
    "import pandas as pd"
   ]
  },
  {
   "cell_type": "markdown",
   "id": "fd5b4390",
   "metadata": {},
   "source": [
    "# Reading in a CSV"
   ]
  },
  {
   "cell_type": "markdown",
   "id": "b9830358",
   "metadata": {},
   "source": [
    "Comma Separated Values files are text files that use commas as field delimeters.<br>\n",
    "You may need to install <tt>xlrd</tt> and <tt>openpyxl</tt>.<br>\n",
    "In your terminal/command prompt run:\n",
    "\n",
    "    conda install xlrd\n",
    "    conda install openpyxl\n",
    "Then restart Jupyter Notebook.\n",
    "(or use pip install if you aren't using the Anaconda Distribution)"
   ]
  },
  {
   "cell_type": "markdown",
   "id": "45ba48b1",
   "metadata": {},
   "source": [
    "## CSV Input"
   ]
  },
  {
   "cell_type": "markdown",
   "id": "77842d42",
   "metadata": {},
   "source": [
    "To read csv files in Pandas, we simply use pd.read_csv(filename.csv). If the python and the csv file are in the different directories, we need to specify the full path to the file."
   ]
  },
  {
   "cell_type": "code",
   "execution_count": 5,
   "id": "e4584d8d",
   "metadata": {},
   "outputs": [],
   "source": [
    "df = pd.read_csv('example.csv')"
   ]
  },
  {
   "cell_type": "code",
   "execution_count": 6,
   "id": "72db225e",
   "metadata": {},
   "outputs": [
    {
     "data": {
      "text/html": [
       "<div>\n",
       "<style scoped>\n",
       "    .dataframe tbody tr th:only-of-type {\n",
       "        vertical-align: middle;\n",
       "    }\n",
       "\n",
       "    .dataframe tbody tr th {\n",
       "        vertical-align: top;\n",
       "    }\n",
       "\n",
       "    .dataframe thead th {\n",
       "        text-align: right;\n",
       "    }\n",
       "</style>\n",
       "<table border=\"1\" class=\"dataframe\">\n",
       "  <thead>\n",
       "    <tr style=\"text-align: right;\">\n",
       "      <th></th>\n",
       "      <th>a</th>\n",
       "      <th>b</th>\n",
       "      <th>c</th>\n",
       "      <th>d</th>\n",
       "    </tr>\n",
       "  </thead>\n",
       "  <tbody>\n",
       "    <tr>\n",
       "      <th>0</th>\n",
       "      <td>0</td>\n",
       "      <td>1</td>\n",
       "      <td>2</td>\n",
       "      <td>3</td>\n",
       "    </tr>\n",
       "    <tr>\n",
       "      <th>1</th>\n",
       "      <td>4</td>\n",
       "      <td>5</td>\n",
       "      <td>6</td>\n",
       "      <td>7</td>\n",
       "    </tr>\n",
       "    <tr>\n",
       "      <th>2</th>\n",
       "      <td>8</td>\n",
       "      <td>9</td>\n",
       "      <td>10</td>\n",
       "      <td>11</td>\n",
       "    </tr>\n",
       "    <tr>\n",
       "      <th>3</th>\n",
       "      <td>12</td>\n",
       "      <td>13</td>\n",
       "      <td>14</td>\n",
       "      <td>15</td>\n",
       "    </tr>\n",
       "  </tbody>\n",
       "</table>\n",
       "</div>"
      ],
      "text/plain": [
       "    a   b   c   d\n",
       "0   0   1   2   3\n",
       "1   4   5   6   7\n",
       "2   8   9  10  11\n",
       "3  12  13  14  15"
      ]
     },
     "execution_count": 6,
     "metadata": {},
     "output_type": "execute_result"
    }
   ],
   "source": [
    "df"
   ]
  },
  {
   "cell_type": "markdown",
   "id": "b6a295b2",
   "metadata": {},
   "source": [
    "Pandas takes the first row a s a header as its datatype is different from the rest of the data. To ignore the header, the command below can be used:"
   ]
  },
  {
   "cell_type": "code",
   "execution_count": 7,
   "id": "bb42c912",
   "metadata": {},
   "outputs": [],
   "source": [
    "df = pd.read_csv('example.csv', header=None)"
   ]
  },
  {
   "cell_type": "code",
   "execution_count": 8,
   "id": "2a92fca6",
   "metadata": {},
   "outputs": [
    {
     "data": {
      "text/html": [
       "<div>\n",
       "<style scoped>\n",
       "    .dataframe tbody tr th:only-of-type {\n",
       "        vertical-align: middle;\n",
       "    }\n",
       "\n",
       "    .dataframe tbody tr th {\n",
       "        vertical-align: top;\n",
       "    }\n",
       "\n",
       "    .dataframe thead th {\n",
       "        text-align: right;\n",
       "    }\n",
       "</style>\n",
       "<table border=\"1\" class=\"dataframe\">\n",
       "  <thead>\n",
       "    <tr style=\"text-align: right;\">\n",
       "      <th></th>\n",
       "      <th>0</th>\n",
       "      <th>1</th>\n",
       "      <th>2</th>\n",
       "      <th>3</th>\n",
       "    </tr>\n",
       "  </thead>\n",
       "  <tbody>\n",
       "    <tr>\n",
       "      <th>0</th>\n",
       "      <td>a</td>\n",
       "      <td>b</td>\n",
       "      <td>c</td>\n",
       "      <td>d</td>\n",
       "    </tr>\n",
       "    <tr>\n",
       "      <th>1</th>\n",
       "      <td>0</td>\n",
       "      <td>1</td>\n",
       "      <td>2</td>\n",
       "      <td>3</td>\n",
       "    </tr>\n",
       "    <tr>\n",
       "      <th>2</th>\n",
       "      <td>4</td>\n",
       "      <td>5</td>\n",
       "      <td>6</td>\n",
       "      <td>7</td>\n",
       "    </tr>\n",
       "    <tr>\n",
       "      <th>3</th>\n",
       "      <td>8</td>\n",
       "      <td>9</td>\n",
       "      <td>10</td>\n",
       "      <td>11</td>\n",
       "    </tr>\n",
       "    <tr>\n",
       "      <th>4</th>\n",
       "      <td>12</td>\n",
       "      <td>13</td>\n",
       "      <td>14</td>\n",
       "      <td>15</td>\n",
       "    </tr>\n",
       "  </tbody>\n",
       "</table>\n",
       "</div>"
      ],
      "text/plain": [
       "    0   1   2   3\n",
       "0   a   b   c   d\n",
       "1   0   1   2   3\n",
       "2   4   5   6   7\n",
       "3   8   9  10  11\n",
       "4  12  13  14  15"
      ]
     },
     "execution_count": 8,
     "metadata": {},
     "output_type": "execute_result"
    }
   ],
   "source": [
    "df"
   ]
  },
  {
   "cell_type": "markdown",
   "id": "a7c042a3",
   "metadata": {},
   "source": [
    "Pandas adds the index column to the csv data automatically when displayed. To make the first column the index column, index_col=0 parameter should be used."
   ]
  },
  {
   "cell_type": "code",
   "execution_count": 9,
   "id": "a05cdd2b",
   "metadata": {},
   "outputs": [],
   "source": [
    "df = pd.read_csv('example.csv', index_col=0)"
   ]
  },
  {
   "cell_type": "code",
   "execution_count": 10,
   "id": "f3b2d9c9",
   "metadata": {},
   "outputs": [
    {
     "data": {
      "text/html": [
       "<div>\n",
       "<style scoped>\n",
       "    .dataframe tbody tr th:only-of-type {\n",
       "        vertical-align: middle;\n",
       "    }\n",
       "\n",
       "    .dataframe tbody tr th {\n",
       "        vertical-align: top;\n",
       "    }\n",
       "\n",
       "    .dataframe thead th {\n",
       "        text-align: right;\n",
       "    }\n",
       "</style>\n",
       "<table border=\"1\" class=\"dataframe\">\n",
       "  <thead>\n",
       "    <tr style=\"text-align: right;\">\n",
       "      <th></th>\n",
       "      <th>b</th>\n",
       "      <th>c</th>\n",
       "      <th>d</th>\n",
       "    </tr>\n",
       "    <tr>\n",
       "      <th>a</th>\n",
       "      <th></th>\n",
       "      <th></th>\n",
       "      <th></th>\n",
       "    </tr>\n",
       "  </thead>\n",
       "  <tbody>\n",
       "    <tr>\n",
       "      <th>0</th>\n",
       "      <td>1</td>\n",
       "      <td>2</td>\n",
       "      <td>3</td>\n",
       "    </tr>\n",
       "    <tr>\n",
       "      <th>4</th>\n",
       "      <td>5</td>\n",
       "      <td>6</td>\n",
       "      <td>7</td>\n",
       "    </tr>\n",
       "    <tr>\n",
       "      <th>8</th>\n",
       "      <td>9</td>\n",
       "      <td>10</td>\n",
       "      <td>11</td>\n",
       "    </tr>\n",
       "    <tr>\n",
       "      <th>12</th>\n",
       "      <td>13</td>\n",
       "      <td>14</td>\n",
       "      <td>15</td>\n",
       "    </tr>\n",
       "  </tbody>\n",
       "</table>\n",
       "</div>"
      ],
      "text/plain": [
       "     b   c   d\n",
       "a             \n",
       "0    1   2   3\n",
       "4    5   6   7\n",
       "8    9  10  11\n",
       "12  13  14  15"
      ]
     },
     "execution_count": 10,
     "metadata": {},
     "output_type": "execute_result"
    }
   ],
   "source": [
    "df"
   ]
  },
  {
   "cell_type": "markdown",
   "id": "1fa2a566",
   "metadata": {},
   "source": [
    "## CSV Output"
   ]
  },
  {
   "cell_type": "markdown",
   "id": "5a497612",
   "metadata": {},
   "source": [
    "Pandas adds the index column to the csv file as a default and call it \"Unnamed:0\" if your index did not have a name. To prevent this, index should be set to False."
   ]
  },
  {
   "cell_type": "code",
   "execution_count": 11,
   "id": "48cadf99",
   "metadata": {},
   "outputs": [],
   "source": [
    "df = pd.read_csv('example.csv')"
   ]
  },
  {
   "cell_type": "code",
   "execution_count": 12,
   "id": "7257b208",
   "metadata": {},
   "outputs": [
    {
     "data": {
      "text/html": [
       "<div>\n",
       "<style scoped>\n",
       "    .dataframe tbody tr th:only-of-type {\n",
       "        vertical-align: middle;\n",
       "    }\n",
       "\n",
       "    .dataframe tbody tr th {\n",
       "        vertical-align: top;\n",
       "    }\n",
       "\n",
       "    .dataframe thead th {\n",
       "        text-align: right;\n",
       "    }\n",
       "</style>\n",
       "<table border=\"1\" class=\"dataframe\">\n",
       "  <thead>\n",
       "    <tr style=\"text-align: right;\">\n",
       "      <th></th>\n",
       "      <th>a</th>\n",
       "      <th>b</th>\n",
       "      <th>c</th>\n",
       "      <th>d</th>\n",
       "    </tr>\n",
       "  </thead>\n",
       "  <tbody>\n",
       "    <tr>\n",
       "      <th>0</th>\n",
       "      <td>0</td>\n",
       "      <td>1</td>\n",
       "      <td>2</td>\n",
       "      <td>3</td>\n",
       "    </tr>\n",
       "    <tr>\n",
       "      <th>1</th>\n",
       "      <td>4</td>\n",
       "      <td>5</td>\n",
       "      <td>6</td>\n",
       "      <td>7</td>\n",
       "    </tr>\n",
       "    <tr>\n",
       "      <th>2</th>\n",
       "      <td>8</td>\n",
       "      <td>9</td>\n",
       "      <td>10</td>\n",
       "      <td>11</td>\n",
       "    </tr>\n",
       "    <tr>\n",
       "      <th>3</th>\n",
       "      <td>12</td>\n",
       "      <td>13</td>\n",
       "      <td>14</td>\n",
       "      <td>15</td>\n",
       "    </tr>\n",
       "  </tbody>\n",
       "</table>\n",
       "</div>"
      ],
      "text/plain": [
       "    a   b   c   d\n",
       "0   0   1   2   3\n",
       "1   4   5   6   7\n",
       "2   8   9  10  11\n",
       "3  12  13  14  15"
      ]
     },
     "execution_count": 12,
     "metadata": {},
     "output_type": "execute_result"
    }
   ],
   "source": [
    "df"
   ]
  },
  {
   "cell_type": "code",
   "execution_count": 13,
   "id": "724e4cfa",
   "metadata": {},
   "outputs": [],
   "source": [
    "df.to_csv('new_file.csv', index=False)"
   ]
  },
  {
   "cell_type": "markdown",
   "id": "1bed6274",
   "metadata": {},
   "source": [
    "# HTML\n",
    "\n",
    "Pandas can read table tabs off of HTML. This only works if your firewall isn't blocking pandas from accessing the internet!\n",
    "\n",
    "Unless you're running the virtual environment, you may need to install <tt>lxml</tt>, <tt>htmllib5</tt>, and <tt>BeautifulSoup4</tt>.<br>\n",
    "In your terminal/command prompt run:\n",
    "\n",
    "    conda install lxml\n",
    "    \n",
    "    or\n",
    "    \n",
    "    pip install lxml\n",
    "    \n",
    "Then restart Jupyter Notebook (you may need to restart your computer).\n",
    "(or use pip install if you aren't using the Anaconda Distribution)"
   ]
  },
  {
   "cell_type": "markdown",
   "id": "cbaab76a",
   "metadata": {},
   "source": [
    "## read_html\n",
    "\n",
    "### HTML Input\n",
    "\n",
    "Pandas read_html function will read tables off of a webpage and return a list of DataFrame objects."
   ]
  },
  {
   "cell_type": "code",
   "execution_count": 14,
   "id": "6bef0a94",
   "metadata": {},
   "outputs": [],
   "source": [
    "tables = pd.read_html('https://en.wikipedia.org/wiki/World_population')"
   ]
  },
  {
   "cell_type": "code",
   "execution_count": 15,
   "id": "967b090f",
   "metadata": {},
   "outputs": [
    {
     "data": {
      "text/plain": [
       "26"
      ]
     },
     "execution_count": 15,
     "metadata": {},
     "output_type": "execute_result"
    }
   ],
   "source": [
    "len(tables)"
   ]
  },
  {
   "cell_type": "markdown",
   "id": "240773a6",
   "metadata": {},
   "source": [
    "## Tables that need formatting\n",
    "\n",
    "Some tables will be misaligned, so you need to do extra work on those to fix rows and columns:"
   ]
  },
  {
   "cell_type": "code",
   "execution_count": 16,
   "id": "a6a5f1b4",
   "metadata": {},
   "outputs": [
    {
     "data": {
      "text/html": [
       "<div>\n",
       "<style scoped>\n",
       "    .dataframe tbody tr th:only-of-type {\n",
       "        vertical-align: middle;\n",
       "    }\n",
       "\n",
       "    .dataframe tbody tr th {\n",
       "        vertical-align: top;\n",
       "    }\n",
       "\n",
       "    .dataframe thead tr th {\n",
       "        text-align: left;\n",
       "    }\n",
       "</style>\n",
       "<table border=\"1\" class=\"dataframe\">\n",
       "  <thead>\n",
       "    <tr>\n",
       "      <th></th>\n",
       "      <th colspan=\"5\" halign=\"left\">World population (millions, UN estimates)[15]</th>\n",
       "    </tr>\n",
       "    <tr>\n",
       "      <th></th>\n",
       "      <th>#</th>\n",
       "      <th>Top ten most populous countries</th>\n",
       "      <th>2000</th>\n",
       "      <th>2015</th>\n",
       "      <th>2030[A]</th>\n",
       "    </tr>\n",
       "  </thead>\n",
       "  <tbody>\n",
       "    <tr>\n",
       "      <th>0</th>\n",
       "      <td>1</td>\n",
       "      <td>China[B]</td>\n",
       "      <td>1270</td>\n",
       "      <td>1376</td>\n",
       "      <td>1416</td>\n",
       "    </tr>\n",
       "    <tr>\n",
       "      <th>1</th>\n",
       "      <td>2</td>\n",
       "      <td>India</td>\n",
       "      <td>1053</td>\n",
       "      <td>1311</td>\n",
       "      <td>1528</td>\n",
       "    </tr>\n",
       "    <tr>\n",
       "      <th>2</th>\n",
       "      <td>3</td>\n",
       "      <td>United States</td>\n",
       "      <td>283</td>\n",
       "      <td>322</td>\n",
       "      <td>356</td>\n",
       "    </tr>\n",
       "    <tr>\n",
       "      <th>3</th>\n",
       "      <td>4</td>\n",
       "      <td>Indonesia</td>\n",
       "      <td>212</td>\n",
       "      <td>258</td>\n",
       "      <td>295</td>\n",
       "    </tr>\n",
       "    <tr>\n",
       "      <th>4</th>\n",
       "      <td>5</td>\n",
       "      <td>Pakistan</td>\n",
       "      <td>136</td>\n",
       "      <td>208</td>\n",
       "      <td>245</td>\n",
       "    </tr>\n",
       "    <tr>\n",
       "      <th>5</th>\n",
       "      <td>6</td>\n",
       "      <td>Brazil</td>\n",
       "      <td>176</td>\n",
       "      <td>206</td>\n",
       "      <td>228</td>\n",
       "    </tr>\n",
       "    <tr>\n",
       "      <th>6</th>\n",
       "      <td>7</td>\n",
       "      <td>Nigeria</td>\n",
       "      <td>123</td>\n",
       "      <td>182</td>\n",
       "      <td>263</td>\n",
       "    </tr>\n",
       "    <tr>\n",
       "      <th>7</th>\n",
       "      <td>8</td>\n",
       "      <td>Bangladesh</td>\n",
       "      <td>131</td>\n",
       "      <td>161</td>\n",
       "      <td>186</td>\n",
       "    </tr>\n",
       "    <tr>\n",
       "      <th>8</th>\n",
       "      <td>9</td>\n",
       "      <td>Russia</td>\n",
       "      <td>146</td>\n",
       "      <td>146</td>\n",
       "      <td>149</td>\n",
       "    </tr>\n",
       "    <tr>\n",
       "      <th>9</th>\n",
       "      <td>10</td>\n",
       "      <td>Mexico</td>\n",
       "      <td>103</td>\n",
       "      <td>127</td>\n",
       "      <td>148</td>\n",
       "    </tr>\n",
       "    <tr>\n",
       "      <th>10</th>\n",
       "      <td>NaN</td>\n",
       "      <td>World total</td>\n",
       "      <td>6127</td>\n",
       "      <td>7349</td>\n",
       "      <td>8501</td>\n",
       "    </tr>\n",
       "    <tr>\n",
       "      <th>11</th>\n",
       "      <td>Notes: .mw-parser-output .reflist{font-size:90...</td>\n",
       "      <td>Notes: .mw-parser-output .reflist{font-size:90...</td>\n",
       "      <td>Notes: .mw-parser-output .reflist{font-size:90...</td>\n",
       "      <td>Notes: .mw-parser-output .reflist{font-size:90...</td>\n",
       "      <td>Notes: .mw-parser-output .reflist{font-size:90...</td>\n",
       "    </tr>\n",
       "  </tbody>\n",
       "</table>\n",
       "</div>"
      ],
      "text/plain": [
       "        World population (millions, UN estimates)[15]  \\\n",
       "                                                    #   \n",
       "0                                                   1   \n",
       "1                                                   2   \n",
       "2                                                   3   \n",
       "3                                                   4   \n",
       "4                                                   5   \n",
       "5                                                   6   \n",
       "6                                                   7   \n",
       "7                                                   8   \n",
       "8                                                   9   \n",
       "9                                                  10   \n",
       "10                                                NaN   \n",
       "11  Notes: .mw-parser-output .reflist{font-size:90...   \n",
       "\n",
       "                                                       \\\n",
       "                      Top ten most populous countries   \n",
       "0                                            China[B]   \n",
       "1                                               India   \n",
       "2                                       United States   \n",
       "3                                           Indonesia   \n",
       "4                                            Pakistan   \n",
       "5                                              Brazil   \n",
       "6                                             Nigeria   \n",
       "7                                          Bangladesh   \n",
       "8                                              Russia   \n",
       "9                                              Mexico   \n",
       "10                                        World total   \n",
       "11  Notes: .mw-parser-output .reflist{font-size:90...   \n",
       "\n",
       "                                                       \\\n",
       "                                                 2000   \n",
       "0                                                1270   \n",
       "1                                                1053   \n",
       "2                                                 283   \n",
       "3                                                 212   \n",
       "4                                                 136   \n",
       "5                                                 176   \n",
       "6                                                 123   \n",
       "7                                                 131   \n",
       "8                                                 146   \n",
       "9                                                 103   \n",
       "10                                               6127   \n",
       "11  Notes: .mw-parser-output .reflist{font-size:90...   \n",
       "\n",
       "                                                       \\\n",
       "                                                 2015   \n",
       "0                                                1376   \n",
       "1                                                1311   \n",
       "2                                                 322   \n",
       "3                                                 258   \n",
       "4                                                 208   \n",
       "5                                                 206   \n",
       "6                                                 182   \n",
       "7                                                 161   \n",
       "8                                                 146   \n",
       "9                                                 127   \n",
       "10                                               7349   \n",
       "11  Notes: .mw-parser-output .reflist{font-size:90...   \n",
       "\n",
       "                                                       \n",
       "                                              2030[A]  \n",
       "0                                                1416  \n",
       "1                                                1528  \n",
       "2                                                 356  \n",
       "3                                                 295  \n",
       "4                                                 245  \n",
       "5                                                 228  \n",
       "6                                                 263  \n",
       "7                                                 186  \n",
       "8                                                 149  \n",
       "9                                                 148  \n",
       "10                                               8501  \n",
       "11  Notes: .mw-parser-output .reflist{font-size:90...  "
      ]
     },
     "execution_count": 16,
     "metadata": {},
     "output_type": "execute_result"
    }
   ],
   "source": [
    "tables[0]"
   ]
  },
  {
   "cell_type": "code",
   "execution_count": 17,
   "id": "6e089692",
   "metadata": {},
   "outputs": [
    {
     "data": {
      "text/plain": [
       "MultiIndex([('World population (millions, UN estimates)[15]', ...),\n",
       "            ('World population (millions, UN estimates)[15]', ...),\n",
       "            ('World population (millions, UN estimates)[15]', ...),\n",
       "            ('World population (millions, UN estimates)[15]', ...),\n",
       "            ('World population (millions, UN estimates)[15]', ...)],\n",
       "           )"
      ]
     },
     "execution_count": 17,
     "metadata": {},
     "output_type": "execute_result"
    }
   ],
   "source": [
    "world_pop = tables[0]\n",
    "world_pop.columns"
   ]
  },
  {
   "cell_type": "code",
   "execution_count": 18,
   "id": "f0e3a5c4",
   "metadata": {},
   "outputs": [],
   "source": [
    "world_pop = world_pop['World population (millions, UN estimates)[15]'].drop('#', axis=1)"
   ]
  },
  {
   "cell_type": "code",
   "execution_count": 19,
   "id": "5ad956a6",
   "metadata": {},
   "outputs": [
    {
     "data": {
      "text/plain": [
       "Index(['Top ten most populous countries', '2000', '2015', '2030[A]'], dtype='object')"
      ]
     },
     "execution_count": 19,
     "metadata": {},
     "output_type": "execute_result"
    }
   ],
   "source": [
    "world_pop.columns"
   ]
  },
  {
   "cell_type": "code",
   "execution_count": 20,
   "id": "057b3539",
   "metadata": {},
   "outputs": [
    {
     "data": {
      "text/html": [
       "<div>\n",
       "<style scoped>\n",
       "    .dataframe tbody tr th:only-of-type {\n",
       "        vertical-align: middle;\n",
       "    }\n",
       "\n",
       "    .dataframe tbody tr th {\n",
       "        vertical-align: top;\n",
       "    }\n",
       "\n",
       "    .dataframe thead th {\n",
       "        text-align: right;\n",
       "    }\n",
       "</style>\n",
       "<table border=\"1\" class=\"dataframe\">\n",
       "  <thead>\n",
       "    <tr style=\"text-align: right;\">\n",
       "      <th></th>\n",
       "      <th>Countries</th>\n",
       "      <th>2000</th>\n",
       "      <th>2015</th>\n",
       "      <th>2030 Est.</th>\n",
       "    </tr>\n",
       "  </thead>\n",
       "  <tbody>\n",
       "    <tr>\n",
       "      <th>0</th>\n",
       "      <td>China[B]</td>\n",
       "      <td>1270</td>\n",
       "      <td>1376</td>\n",
       "      <td>1416</td>\n",
       "    </tr>\n",
       "    <tr>\n",
       "      <th>1</th>\n",
       "      <td>India</td>\n",
       "      <td>1053</td>\n",
       "      <td>1311</td>\n",
       "      <td>1528</td>\n",
       "    </tr>\n",
       "    <tr>\n",
       "      <th>2</th>\n",
       "      <td>United States</td>\n",
       "      <td>283</td>\n",
       "      <td>322</td>\n",
       "      <td>356</td>\n",
       "    </tr>\n",
       "    <tr>\n",
       "      <th>3</th>\n",
       "      <td>Indonesia</td>\n",
       "      <td>212</td>\n",
       "      <td>258</td>\n",
       "      <td>295</td>\n",
       "    </tr>\n",
       "    <tr>\n",
       "      <th>4</th>\n",
       "      <td>Pakistan</td>\n",
       "      <td>136</td>\n",
       "      <td>208</td>\n",
       "      <td>245</td>\n",
       "    </tr>\n",
       "    <tr>\n",
       "      <th>5</th>\n",
       "      <td>Brazil</td>\n",
       "      <td>176</td>\n",
       "      <td>206</td>\n",
       "      <td>228</td>\n",
       "    </tr>\n",
       "    <tr>\n",
       "      <th>6</th>\n",
       "      <td>Nigeria</td>\n",
       "      <td>123</td>\n",
       "      <td>182</td>\n",
       "      <td>263</td>\n",
       "    </tr>\n",
       "    <tr>\n",
       "      <th>7</th>\n",
       "      <td>Bangladesh</td>\n",
       "      <td>131</td>\n",
       "      <td>161</td>\n",
       "      <td>186</td>\n",
       "    </tr>\n",
       "    <tr>\n",
       "      <th>8</th>\n",
       "      <td>Russia</td>\n",
       "      <td>146</td>\n",
       "      <td>146</td>\n",
       "      <td>149</td>\n",
       "    </tr>\n",
       "    <tr>\n",
       "      <th>9</th>\n",
       "      <td>Mexico</td>\n",
       "      <td>103</td>\n",
       "      <td>127</td>\n",
       "      <td>148</td>\n",
       "    </tr>\n",
       "    <tr>\n",
       "      <th>10</th>\n",
       "      <td>World total</td>\n",
       "      <td>6127</td>\n",
       "      <td>7349</td>\n",
       "      <td>8501</td>\n",
       "    </tr>\n",
       "  </tbody>\n",
       "</table>\n",
       "</div>"
      ],
      "text/plain": [
       "        Countries  2000  2015 2030 Est.\n",
       "0        China[B]  1270  1376      1416\n",
       "1           India  1053  1311      1528\n",
       "2   United States   283   322       356\n",
       "3       Indonesia   212   258       295\n",
       "4        Pakistan   136   208       245\n",
       "5          Brazil   176   206       228\n",
       "6         Nigeria   123   182       263\n",
       "7      Bangladesh   131   161       186\n",
       "8          Russia   146   146       149\n",
       "9          Mexico   103   127       148\n",
       "10    World total  6127  7349      8501"
      ]
     },
     "execution_count": 20,
     "metadata": {},
     "output_type": "execute_result"
    }
   ],
   "source": [
    "world_pop.columns = ['Countries', '2000', '2015', '2030 Est.']\n",
    "world_pop = world_pop.drop(11,axis=0)\n",
    "world_pop"
   ]
  },
  {
   "cell_type": "markdown",
   "id": "9b0fd120",
   "metadata": {},
   "source": [
    "## Write to html Output\n",
    "\n",
    "If you are working on a website and want to quickly output the .html file, you can use to_html"
   ]
  },
  {
   "cell_type": "code",
   "execution_count": 21,
   "id": "7a2a5064",
   "metadata": {},
   "outputs": [],
   "source": [
    "df.to_html('simple.html',index=False)"
   ]
  },
  {
   "cell_type": "markdown",
   "id": "db95a10c",
   "metadata": {},
   "source": [
    "# Excel Files\n",
    "\n",
    "Pandas can read in basic excel files (it will get errors if there are macros or extensive formulas relying on outside excel files), in general, pandas can only grab the raw information from an .excel file.\n",
    "\n",
    "#### NOTE: Requires the openpyxl and xlrd library! You can simply install with:\n",
    "\n",
    "    pip install openpyxl\n",
    "    pip install xlrd\n",
    "    \n",
    "## Excel file input with read_excel()"
   ]
  },
  {
   "cell_type": "code",
   "execution_count": 22,
   "id": "1873d99b",
   "metadata": {},
   "outputs": [
    {
     "data": {
      "text/html": [
       "<div>\n",
       "<style scoped>\n",
       "    .dataframe tbody tr th:only-of-type {\n",
       "        vertical-align: middle;\n",
       "    }\n",
       "\n",
       "    .dataframe tbody tr th {\n",
       "        vertical-align: top;\n",
       "    }\n",
       "\n",
       "    .dataframe thead th {\n",
       "        text-align: right;\n",
       "    }\n",
       "</style>\n",
       "<table border=\"1\" class=\"dataframe\">\n",
       "  <thead>\n",
       "    <tr style=\"text-align: right;\">\n",
       "      <th></th>\n",
       "      <th>a</th>\n",
       "      <th>b</th>\n",
       "      <th>c</th>\n",
       "      <th>d</th>\n",
       "    </tr>\n",
       "  </thead>\n",
       "  <tbody>\n",
       "    <tr>\n",
       "      <th>0</th>\n",
       "      <td>1</td>\n",
       "      <td>5</td>\n",
       "      <td>9</td>\n",
       "      <td>13</td>\n",
       "    </tr>\n",
       "    <tr>\n",
       "      <th>1</th>\n",
       "      <td>2</td>\n",
       "      <td>6</td>\n",
       "      <td>10</td>\n",
       "      <td>14</td>\n",
       "    </tr>\n",
       "    <tr>\n",
       "      <th>2</th>\n",
       "      <td>3</td>\n",
       "      <td>7</td>\n",
       "      <td>11</td>\n",
       "      <td>15</td>\n",
       "    </tr>\n",
       "    <tr>\n",
       "      <th>3</th>\n",
       "      <td>4</td>\n",
       "      <td>8</td>\n",
       "      <td>12</td>\n",
       "      <td>16</td>\n",
       "    </tr>\n",
       "  </tbody>\n",
       "</table>\n",
       "</div>"
      ],
      "text/plain": [
       "   a  b   c   d\n",
       "0  1  5   9  13\n",
       "1  2  6  10  14\n",
       "2  3  7  11  15\n",
       "3  4  8  12  16"
      ]
     },
     "execution_count": 22,
     "metadata": {},
     "output_type": "execute_result"
    }
   ],
   "source": [
    "df = pd.read_excel('new_excel.xlsx', sheet_name='Sheet1')\n",
    "\n",
    "df"
   ]
  },
  {
   "cell_type": "markdown",
   "id": "fe11f991",
   "metadata": {},
   "source": [
    "### What if you don't know the sheet name? Or want to run a for loop for certain sheet names? Or want every sheet?"
   ]
  },
  {
   "cell_type": "code",
   "execution_count": 23,
   "id": "a203e277",
   "metadata": {},
   "outputs": [
    {
     "data": {
      "text/plain": [
       "['Sheet1', 'Sheet2']"
      ]
     },
     "execution_count": 23,
     "metadata": {},
     "output_type": "execute_result"
    }
   ],
   "source": [
    "# Returns a list of sheet_names\n",
    "pd.ExcelFile('new_excel.xlsx').sheet_names"
   ]
  },
  {
   "cell_type": "markdown",
   "id": "2603244f",
   "metadata": {},
   "source": [
    "#### Grab all sheets"
   ]
  },
  {
   "cell_type": "markdown",
   "id": "e33821b9",
   "metadata": {},
   "source": [
    "In Pandas, Excel files are dictionaries with sheet names being the keys and data being the values."
   ]
  },
  {
   "cell_type": "code",
   "execution_count": 24,
   "id": "7268a1ae",
   "metadata": {},
   "outputs": [
    {
     "data": {
      "text/plain": [
       "dict"
      ]
     },
     "execution_count": 24,
     "metadata": {},
     "output_type": "execute_result"
    }
   ],
   "source": [
    "excel_sheets = pd.read_excel('new_excel.xlsx',sheet_name=None)\n",
    "\n",
    "type(excel_sheets)"
   ]
  },
  {
   "cell_type": "code",
   "execution_count": 25,
   "id": "2795388d",
   "metadata": {},
   "outputs": [
    {
     "data": {
      "text/plain": [
       "dict_keys(['Sheet1', 'Sheet2'])"
      ]
     },
     "execution_count": 25,
     "metadata": {},
     "output_type": "execute_result"
    }
   ],
   "source": [
    "excel_sheets.keys()"
   ]
  },
  {
   "cell_type": "code",
   "execution_count": 26,
   "id": "7fd01340",
   "metadata": {},
   "outputs": [
    {
     "data": {
      "text/html": [
       "<div>\n",
       "<style scoped>\n",
       "    .dataframe tbody tr th:only-of-type {\n",
       "        vertical-align: middle;\n",
       "    }\n",
       "\n",
       "    .dataframe tbody tr th {\n",
       "        vertical-align: top;\n",
       "    }\n",
       "\n",
       "    .dataframe thead th {\n",
       "        text-align: right;\n",
       "    }\n",
       "</style>\n",
       "<table border=\"1\" class=\"dataframe\">\n",
       "  <thead>\n",
       "    <tr style=\"text-align: right;\">\n",
       "      <th></th>\n",
       "      <th>aa</th>\n",
       "      <th>ab</th>\n",
       "      <th>ac</th>\n",
       "    </tr>\n",
       "  </thead>\n",
       "  <tbody>\n",
       "    <tr>\n",
       "      <th>0</th>\n",
       "      <td>11</td>\n",
       "      <td>12</td>\n",
       "      <td>13</td>\n",
       "    </tr>\n",
       "    <tr>\n",
       "      <th>1</th>\n",
       "      <td>21</td>\n",
       "      <td>22</td>\n",
       "      <td>23</td>\n",
       "    </tr>\n",
       "    <tr>\n",
       "      <th>2</th>\n",
       "      <td>31</td>\n",
       "      <td>32</td>\n",
       "      <td>33</td>\n",
       "    </tr>\n",
       "  </tbody>\n",
       "</table>\n",
       "</div>"
      ],
      "text/plain": [
       "   aa  ab  ac\n",
       "0  11  12  13\n",
       "1  21  22  23\n",
       "2  31  32  33"
      ]
     },
     "execution_count": 26,
     "metadata": {},
     "output_type": "execute_result"
    }
   ],
   "source": [
    "excel_sheets['Sheet2']"
   ]
  },
  {
   "cell_type": "markdown",
   "id": "8f8a86d1",
   "metadata": {},
   "source": [
    "## Write to Excel File"
   ]
  },
  {
   "cell_type": "code",
   "execution_count": 27,
   "id": "45f36916",
   "metadata": {},
   "outputs": [],
   "source": [
    "df.to_excel('example.xlsx', sheet_name='First_Sheet', index=False)"
   ]
  }
 ],
 "metadata": {
  "kernelspec": {
   "display_name": "Python 3 (ipykernel)",
   "language": "python",
   "name": "python3"
  },
  "language_info": {
   "codemirror_mode": {
    "name": "ipython",
    "version": 3
   },
   "file_extension": ".py",
   "mimetype": "text/x-python",
   "name": "python",
   "nbconvert_exporter": "python",
   "pygments_lexer": "ipython3",
   "version": "3.9.7"
  }
 },
 "nbformat": 4,
 "nbformat_minor": 5
}
